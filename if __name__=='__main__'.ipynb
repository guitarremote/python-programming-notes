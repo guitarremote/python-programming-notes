{
 "cells": [
  {
   "cell_type": "markdown",
   "metadata": {
    "collapsed": true
   },
   "source": [
    "### What exactly is __name__=='__main__' ?\n",
    "\n",
    "We see a code block like `if __name_=='__main__'` very often in a lot of python codes. You might be wondering what is this doing and why exactly do people use this. When python runs a file, before it even goes it through the code, it sets up a few special variables. One of them is `__name__`. When python runs a file directly, it sets the `__name__` variable to `__main__`."
   ]
  },
  {
   "cell_type": "code",
   "execution_count": 2,
   "metadata": {},
   "outputs": [
    {
     "name": "stdout",
     "output_type": "stream",
     "text": [
      "__main__\n"
     ]
    }
   ],
   "source": [
    "print(__name__)"
   ]
  },
  {
   "cell_type": "markdown",
   "metadata": {},
   "source": [
    "We can also import modules(file) in another file. For instance, say you have two files **first_model.py** and **second_module.py** and we are importing **first_module.py** in **second_module.py**. The syntax is `import first_module`. Now since we are importing **first_module.py** i.e., not running it directly, `__name__` will be `first_module` and not  `__main__`.\n",
    "\n",
    "Say the codes below are present in first and second modules"
   ]
  },
  {
   "cell_type": "code",
   "execution_count": null,
   "metadata": {
    "collapsed": true
   },
   "outputs": [],
   "source": [
    "#Try this in two separate files\n",
    "#first_module.py\n",
    "\n",
    "if __name='__main__':\n",
    "    #this won't get executed when first_module.py is imported from another file\n",
    "    print(\"Run directly\")\n",
    "else:\n",
    "    #this will get executed when first_module.py is imported from another file\n",
    "    print(\"Run from import\")\n",
    "\n",
    "#second_module.py\n",
    "          \n",
    "import first_module\n",
    "\n",
    "print(\"Second module's name is \".format(__name__))"
   ]
  },
  {
   "cell_type": "markdown",
   "metadata": {},
   "source": [
    "When executing the second file, the output we get is <br/>\n",
    "`Run from import`<br/>\n",
    "`Second module's name is __main__`<br/>\n",
    "\n",
    "Because of certain requirements, sometimes some files need to be run differently depending on whether it is being run directly by python or it is being imprted from another file. This can be used to handle such scenarios.  "
   ]
  },
  {
   "cell_type": "code",
   "execution_count": null,
   "metadata": {
    "collapsed": true
   },
   "outputs": [],
   "source": []
  }
 ],
 "metadata": {
  "kernelspec": {
   "display_name": "Python 3",
   "language": "python",
   "name": "python3"
  },
  "language_info": {
   "codemirror_mode": {
    "name": "ipython",
    "version": 3
   },
   "file_extension": ".py",
   "mimetype": "text/x-python",
   "name": "python",
   "nbconvert_exporter": "python",
   "pygments_lexer": "ipython3",
   "version": "3.6.3"
  }
 },
 "nbformat": 4,
 "nbformat_minor": 2
}
