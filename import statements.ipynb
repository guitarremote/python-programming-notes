{
 "cells": [
  {
   "cell_type": "markdown",
   "metadata": {},
   "source": [
    "### What is a module?\n",
    "\n",
    "In simple terms, a module is a file consisting of Python code. A module can define functions, classes and variables.\n",
    "\n",
    "### The import statement\n",
    "You can use any Python source file as a module by executing an import statement in some other Python source file.<br/>\n",
    "\n",
    "`import some_file`\n",
    "\n",
    "When the interpreter encounters an import statement, it imports the module if the module is present in the search path. A search path is a list of directories that the interpreter searches before importing a module. A module is loaded only once, regardless of the number of times it is imported. This prevents the module execution from happening over and over again if multiple imports occur.\n",
    "\n",
    "### The from.. import statement\n",
    "Python's from statement lets you import specific attributes from a module into the current namespace.For example, look at the below import statement <br/>\n",
    "\n",
    "`from fib import fibonacci`\n",
    "\n",
    "This statement does not import the entire module fib into the current namespace; it just introduces the item fibonacci from the module fib into the global symbol table of the importing module.\n",
    "\n",
    "### The from...import * Statement\n",
    "It is also possible to import all names from a module into the current namespace by using the following import statement.<br/>\n",
    "\n",
    "`from modname import *`\n",
    "\n",
    "This provides an easy way to import all the items from a module into the current namespace; however, this statement should be used sparingly.\n",
    "\n",
    "### Locating modules\n",
    "\n",
    "When you import a module, the Python interpreter searches for the module in the following sequences −\n",
    "\n",
    "* The current directory.\n",
    "* If the module isn't found, Python then searches each directory in the shell variable PYTHONPATH.\n",
    "* If all else fails, Python checks the default path. On UNIX, this default path is normally /usr/local/lib/python/.\n",
    "\n",
    "The module search path is stored in the system module sys as the sys.path variable. The sys.path variable contains the current directory, PYTHONPATH, and the installation-dependent default."
   ]
  },
  {
   "cell_type": "markdown",
   "metadata": {},
   "source": [
    "### Packages in python\n",
    "\n",
    "A package is a hierarchical file directory structure that defines a single Python application environment that consists of modules and subpackages and sub-subpackages, and so on.\n",
    "\n",
    "Consider there are three files named `Bat.py`,`Ball.py`,`Field.py` having functions named `Bat`,`Ball`,`Field` respectively in `Cricket` directory. Now, say we create one more `__init__.py` in the `Cricket` directory. To make all of our functions available when we import `Cricket`, we need to write down all explicit import statements in `__init__.py` as follows-\n",
    "\n",
    "`\n",
    "from Bat import Bat\n",
    "from Ball import Ball\n",
    "from Field import Field\n",
    "`<br/>\n",
    "After adding these lines to the `__init__.py`, we'll have all the classes available when we import `Crcket` package.<br/>\n",
    "\n",
    "`\n",
    "import Cricket\n",
    "Cricket.Bat()\n",
    "Cricket.Ball()\n",
    "Cricket.Field()\n",
    "`"
   ]
  },
  {
   "cell_type": "markdown",
   "metadata": {
    "collapsed": true
   },
   "source": [
    "### What exactly is __name__=='__main__' ?\n",
    "\n",
    "We see a code block like `if __name_=='__main__'` very often in a lot of python codes. You might be wondering what is this doing and why exactly do people use this. When python runs a file, before it even goes it through the code, it sets up a few special variables. One of them is `__name__`. When python runs a file directly, it sets the `__name__` variable to `__main__`."
   ]
  },
  {
   "cell_type": "code",
   "execution_count": 7,
   "metadata": {},
   "outputs": [
    {
     "name": "stdout",
     "output_type": "stream",
     "text": [
      "__main__\n"
     ]
    }
   ],
   "source": [
    "print(__name__)"
   ]
  },
  {
   "cell_type": "markdown",
   "metadata": {},
   "source": [
    "We can also import modules(file) in another file. For instance, say you have two files **first_model.py** and **second_module.py** and we are importing **first_module.py** in **second_module.py**. The syntax is `import first_module`. Now since we are importing **first_module.py** i.e., not running it directly, `__name__` will be `first_module` and not  `__main__`.\n",
    "\n",
    "Say the codes below are present in first and second modules"
   ]
  },
  {
   "cell_type": "code",
   "execution_count": null,
   "metadata": {
    "collapsed": true
   },
   "outputs": [],
   "source": [
    "#Try this in two separate files\n",
    "#first_module.py\n",
    "\n",
    "if __name__=='__main__':\n",
    "    #this won't get executed when first_module.py is imported from another file\n",
    "    print(\"Run directly\")\n",
    "else:\n",
    "    #this will get executed when first_module.py is imported from another file\n",
    "    print(\"Run from import\")\n",
    "\n",
    "#second_module.py\n",
    "          \n",
    "import first_module\n",
    "\n",
    "print(\"Second module's name is \".format(__name__))"
   ]
  },
  {
   "cell_type": "markdown",
   "metadata": {},
   "source": [
    "When executing the second file, the output we get is <br/>\n",
    "`Run from import`<br/>\n",
    "`Second module's name is __main__`<br/>\n",
    "\n",
    "Because of certain requirements, sometimes some files need to be run differently depending on whether it is being run directly by python or it is being imprted from another file. This can be used to handle such scenarios.  "
   ]
  },
  {
   "cell_type": "code",
   "execution_count": null,
   "metadata": {
    "collapsed": true
   },
   "outputs": [],
   "source": []
  }
 ],
 "metadata": {
  "kernelspec": {
   "display_name": "Python 3",
   "language": "python",
   "name": "python3"
  },
  "language_info": {
   "codemirror_mode": {
    "name": "ipython",
    "version": 3
   },
   "file_extension": ".py",
   "mimetype": "text/x-python",
   "name": "python",
   "nbconvert_exporter": "python",
   "pygments_lexer": "ipython3",
   "version": "3.6.3"
  }
 },
 "nbformat": 4,
 "nbformat_minor": 2
}
